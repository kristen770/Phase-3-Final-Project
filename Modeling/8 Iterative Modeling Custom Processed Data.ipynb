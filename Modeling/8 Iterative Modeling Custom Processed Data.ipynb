{
 "cells": [
  {
   "cell_type": "markdown",
   "metadata": {},
   "source": [
    "# 8 Iterative Modeling Processed Data"
   ]
  },
  {
   "cell_type": "markdown",
   "metadata": {},
   "source": [
    "## 8.1 Set Up & Data Initialization "
   ]
  },
  {
   "cell_type": "code",
   "execution_count": 273,
   "metadata": {},
   "outputs": [],
   "source": [
    "#Libraries\n",
    "import pandas as pd\n",
    "import numpy as np\n",
    "np.random.seed(0)\n",
    "import matplotlib.pyplot as plt \n",
    "\n",
    "import sklearn\n",
    "from sklearn.model_selection import train_test_split, cross_val_score, GridSearchCV\n",
    "from sklearn.metrics import accuracy_score, confusion_matrix, classification_report\n",
    "from sklearn.tree import DecisionTreeClassifier\n",
    "from sklearn.ensemble import BaggingClassifier, RandomForestClassifier  \n",
    "from sklearn.base import BaseEstimator, TransformerMixin\n",
    "from sklearn.preprocessing import StandardScaler\n",
    "from sklearn.preprocessing import LabelBinarizer\n",
    "from sklearn.pipeline import Pipeline\n",
    "from sklearn.pipeline import FeatureUnion\n",
    "\n",
    "from sklearn_pandas import DataFrameMapper\n",
    "\n",
    "from functions import *  \n",
    "import pickle \n",
    "\n",
    "import sys\n",
    "import warnings\n",
    "\n",
    "if not sys.warnoptions:\n",
    "    warnings.simplefilter(\"ignore\") \n",
    "\n",
    "import pandas as pd\n",
    "import numpy as np\n",
    "# import IPython\n",
    "# from IPython import display\n",
    "import sklearn"
   ]
  },
  {
   "cell_type": "code",
   "execution_count": 289,
   "metadata": {},
   "outputs": [],
   "source": [
    "#load dataframe & drop columns & set dtypes \n",
    "df = pd.read_pickle(\"./original.pkl\") \n",
    "df = set_dtypes(df) \n",
    "df = drop_columns(df) "
   ]
  },
  {
   "cell_type": "code",
   "execution_count": 290,
   "metadata": {},
   "outputs": [],
   "source": [
    "#Column processing \n",
    "df = transform_dataframe_categorical(df)  \n",
    "df = transform_dataframe_continous(df)"
   ]
  },
  {
   "cell_type": "code",
   "execution_count": 291,
   "metadata": {},
   "outputs": [],
   "source": [
    "#identify target and features\n",
    "target = df['status_group'] \n",
    "features = df.drop('status_group', axis=1)  "
   ]
  },
  {
   "cell_type": "code",
   "execution_count": 292,
   "metadata": {},
   "outputs": [],
   "source": [
    "#dummy features \n",
    "data = pd.get_dummies(features)  "
   ]
  },
  {
   "cell_type": "code",
   "execution_count": 293,
   "metadata": {},
   "outputs": [],
   "source": [
    "#reate validation group \n",
    "data_train, data_test, target_train, target_test = train_test_split(data, target, test_size = 0.25, random_state=42)"
   ]
  },
  {
   "cell_type": "code",
   "execution_count": 294,
   "metadata": {},
   "outputs": [
    {
     "name": "stdout",
     "output_type": "stream",
     "text": [
      "Training Features Shape: (44550, 23561)\n",
      "Training Labels Shape: (44550,)\n",
      "Testing Features Shape: (14850, 23561)\n",
      "Testing Labels Shape: (14850,)\n"
     ]
    }
   ],
   "source": [
    "print('Training Features Shape:', data_train.shape)\n",
    "print('Training Labels Shape:', target_train.shape)\n",
    "print('Testing Features Shape:', data_test.shape)\n",
    "print('Testing Labels Shape:', target_test.shape) "
   ]
  },
  {
   "cell_type": "markdown",
   "metadata": {},
   "source": [
    "## 8.2 Single Tree Custom Processed Data \n",
    "The purpose of this model is to build a single baseline tree to compare the the unprocessed data score"
   ]
  },
  {
   "cell_type": "code",
   "execution_count": 295,
   "metadata": {},
   "outputs": [
    {
     "data": {
      "text/plain": [
       "DecisionTreeClassifier(max_depth=5)"
      ]
     },
     "execution_count": 295,
     "metadata": {},
     "output_type": "execute_result"
    }
   ],
   "source": [
    "tree_clf = DecisionTreeClassifier(criterion='gini', max_depth=5) \n",
    "tree_clf.fit(data_train, target_train)"
   ]
  },
  {
   "cell_type": "code",
   "execution_count": 296,
   "metadata": {
    "collapsed": true
   },
   "outputs": [
    {
     "name": "stdout",
     "output_type": "stream",
     "text": [
      "[[7292   49  757]\n",
      " [ 835   62  177]\n",
      " [2607   17 3054]]\n",
      "                         precision    recall  f1-score   support\n",
      "\n",
      "             functional       0.68      0.90      0.77      8098\n",
      "functional needs repair       0.48      0.06      0.10      1074\n",
      "         non functional       0.77      0.54      0.63      5678\n",
      "\n",
      "               accuracy                           0.70     14850\n",
      "              macro avg       0.64      0.50      0.50     14850\n",
      "           weighted avg       0.70      0.70      0.67     14850\n",
      "\n"
     ]
    }
   ],
   "source": [
    "pred = tree_clf.predict(data_test)\n",
    "\n",
    "# Confusion matrix and classification report\n",
    "print(confusion_matrix(target_test, pred))\n",
    "print(classification_report(target_test, pred))"
   ]
  },
  {
   "cell_type": "code",
   "execution_count": 297,
   "metadata": {},
   "outputs": [
    {
     "name": "stdout",
     "output_type": "stream",
     "text": [
      "Testing Accuracy for Decision Tree Classifier: 70.09%\n"
     ]
    }
   ],
   "source": [
    "print(\"Testing Accuracy for Decision Tree Classifier: {:.4}%\".format(accuracy_score(target_test, pred) * 100))"
   ]
  },
  {
   "cell_type": "markdown",
   "metadata": {},
   "source": [
    "This model prefored %0.77 worse that the processed data. "
   ]
  },
  {
   "cell_type": "markdown",
   "metadata": {},
   "source": [
    "## 8.3 Random Forest Model Custom Processed Data\n",
    "The purpose of this model is to begin to generate diversity in the model and see if there is any improvement in the model. "
   ]
  },
  {
   "cell_type": "code",
   "execution_count": 301,
   "metadata": {},
   "outputs": [
    {
     "data": {
      "text/plain": [
       "RandomForestClassifier(max_depth=5)"
      ]
     },
     "execution_count": 301,
     "metadata": {},
     "output_type": "execute_result"
    }
   ],
   "source": [
    "forest = RandomForestClassifier(n_estimators=100, max_depth= 5)\n",
    "forest.fit(data_train, target_train)"
   ]
  },
  {
   "cell_type": "code",
   "execution_count": 303,
   "metadata": {},
   "outputs": [
    {
     "name": "stdout",
     "output_type": "stream",
     "text": [
      "[[8098    0    0]\n",
      " [1074    0    0]\n",
      " [5522    0  156]]\n",
      "                         precision    recall  f1-score   support\n",
      "\n",
      "             functional       0.55      1.00      0.71      8098\n",
      "functional needs repair       0.00      0.00      0.00      1074\n",
      "         non functional       1.00      0.03      0.05      5678\n",
      "\n",
      "               accuracy                           0.56     14850\n",
      "              macro avg       0.52      0.34      0.25     14850\n",
      "           weighted avg       0.68      0.56      0.41     14850\n",
      "\n"
     ]
    }
   ],
   "source": [
    "pred = forest.predict(data_test)\n",
    "\n",
    "# Confusion matrix and classification report\n",
    "print(confusion_matrix(target_test, pred))\n",
    "print(classification_report(target_test, pred))"
   ]
  },
  {
   "cell_type": "code",
   "execution_count": 304,
   "metadata": {},
   "outputs": [
    {
     "name": "stdout",
     "output_type": "stream",
     "text": [
      "Testing Accuracy for Random Forest Classifier: 55.58%\n"
     ]
    }
   ],
   "source": [
    "print(\"Testing Accuracy for Random Forest Classifier: {:.4}%\".format(accuracy_score(target_test, pred) * 100))"
   ]
  },
  {
   "cell_type": "markdown",
   "metadata": {},
   "source": [
    "Wow, my model is preforming signifigantly worse with custom process. "
   ]
  }
 ],
 "metadata": {
  "kernelspec": {
   "display_name": "Python 3",
   "language": "python",
   "name": "python3"
  },
  "language_info": {
   "codemirror_mode": {
    "name": "ipython",
    "version": 3
   },
   "file_extension": ".py",
   "mimetype": "text/x-python",
   "name": "python",
   "nbconvert_exporter": "python",
   "pygments_lexer": "ipython3",
   "version": "3.8.3"
  }
 },
 "nbformat": 4,
 "nbformat_minor": 4
}
